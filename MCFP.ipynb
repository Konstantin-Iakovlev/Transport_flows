{
 "cells": [
  {
   "cell_type": "code",
   "execution_count": 142,
   "id": "88621972-1f45-4a88-9e3c-8d33f897b969",
   "metadata": {},
   "outputs": [],
   "source": [
    "import numpy as np\n",
    "from matplotlib import pyplot as plt\n",
    "\n",
    "from scipy.sparse import csr_matrix, lil_matrix\n",
    "from scipy.sparse.csgraph import dijkstra\n",
    "from scipy.sparse.linalg import norm, eigen\n",
    "\n",
    "from matplotlib import pyplot as plt\n",
    "import networkx as nx\n",
    "\n",
    "from tqdm.auto import tqdm\n",
    "from scipy.stats import kendalltau\n"
   ]
  },
  {
   "cell_type": "code",
   "execution_count": 2,
   "id": "11b13fa4-ac02-4597-bd5d-286f041e3ae3",
   "metadata": {},
   "outputs": [
    {
     "name": "stdout",
     "output_type": "stream",
     "text": [
      "  (0, 1)\t1\n",
      "  (0, 2)\t2\n",
      "  (1, 3)\t1\n",
      "  (2, 3)\t3\n"
     ]
    }
   ],
   "source": [
    "graph = [\n",
    "[0, 1, 2, 0],\n",
    "[0, 0, 0, 1],\n",
    "[0, 0, 0, 3],\n",
    "[0, 0, 0, 0]\n",
    "]\n",
    "graph = csr_matrix(graph)\n",
    "print(graph)"
   ]
  },
  {
   "cell_type": "code",
   "execution_count": 3,
   "id": "1ba2aba2-969f-4941-a69e-410fc1e6445c",
   "metadata": {},
   "outputs": [
    {
     "data": {
      "text/plain": [
       "(array([[0., 1., 2., 2.],\n",
       "        [1., 0., 3., 1.],\n",
       "        [2., 3., 0., 3.],\n",
       "        [2., 1., 3., 0.]]),\n",
       " array([[-9999,     0,     0,     1],\n",
       "        [    1, -9999,     0,     1],\n",
       "        [    2,     0, -9999,     2],\n",
       "        [    1,     3,     3, -9999]], dtype=int32))"
      ]
     },
     "execution_count": 3,
     "metadata": {},
     "output_type": "execute_result"
    }
   ],
   "source": [
    "dijkstra(csgraph=graph, directed=False, indices=None, return_predecessors=True)"
   ]
  },
  {
   "cell_type": "markdown",
   "id": "c07822bf-13c4-4354-b6fc-609b93bfe1c7",
   "metadata": {},
   "source": [
    "## Toy MCFP"
   ]
  },
  {
   "cell_type": "code",
   "execution_count": 4,
   "id": "95892eda-d516-4342-b984-35b038c1b09e",
   "metadata": {},
   "outputs": [],
   "source": [
    "# f_e; upper triangular\n",
    "graph = [\n",
    "[0, 1, 1, 0],\n",
    "[0, 0, 0, 1],\n",
    "[0, 0, 0, 1],\n",
    "[0, 0, 0, 0]\n",
    "]\n",
    "graph = csr_matrix(graph)\n",
    "\n",
    "# commodities: from, to, d\n",
    "D = [(0, 2, 1)]\n"
   ]
  },
  {
   "cell_type": "code",
   "execution_count": 54,
   "id": "2269c1b9-b6b8-4a92-bd78-f9ab3b13d5ba",
   "metadata": {},
   "outputs": [
    {
     "data": {
      "application/vnd.jupyter.widget-view+json": {
       "model_id": "",
       "version_major": 2,
       "version_minor": 0
      },
      "text/plain": [
       "  0%|          | 0/1000 [00:00<?, ?it/s]"
      ]
     },
     "metadata": {},
     "output_type": "display_data"
    },
    {
     "data": {
      "text/plain": [
       "1.996022723824494"
      ]
     },
     "execution_count": 54,
     "metadata": {},
     "output_type": "execute_result"
    }
   ],
   "source": [
    "def mcfp(graph, D, eta_f=1e-1, eta_g=1e-1, eps=1e-3, seed=0, n_iter=1_000):\n",
    "    rows, cols = graph.nonzero()\n",
    "    np.random.seed(seed)\n",
    "    y = csr_matrix((np.random.rand(*rows.shape), (rows, cols)), shape=graph.shape)\n",
    "\n",
    "    losses = []\n",
    "    n_g = 0\n",
    "    for k in tqdm(range(n_iter), leave=False):\n",
    "        budget = -1.0\n",
    "        dist, pred = dijkstra(csgraph=y, directed=False, indices=None, return_predecessors=True)\n",
    "        grad = lil_matrix(graph.shape) * 0 # sum d_k grad l_k\n",
    "        for s, t, d in D:\n",
    "            cur_node = t\n",
    "            # print(dist, pred)\n",
    "            while cur_node != s:\n",
    "                grad[pred[s, cur_node], cur_node] += d\n",
    "                cur_node = pred[s, cur_node]\n",
    "            budget += d * dist[s, t]\n",
    "        assert norm(grad) > 0\n",
    "\n",
    "        if budget < -eps:\n",
    "            y += eta_g * grad / norm(grad) / np.sqrt(k + 1)\n",
    "            n_g += 1\n",
    "        else:\n",
    "            losses.append((y.multiply(graph)).sum())\n",
    "            y -= eta_f * graph / norm(graph) / np.sqrt(k + 1)\n",
    "\n",
    "        # clip\n",
    "        y.data = np.where(y.data < 0, 0, y.data)\n",
    "        if len(losses) > 1 and abs(losses[-1] - losses[-2]) < eps:\n",
    "            break\n",
    "    return min(losses)\n",
    "    \n",
    "mcfp(graph, D)"
   ]
  },
  {
   "cell_type": "markdown",
   "id": "0aa07ca8-e395-4cc5-8c10-886dca8e2465",
   "metadata": {},
   "source": [
    "## Approximation with effective number of neighbours"
   ]
  },
  {
   "cell_type": "code",
   "execution_count": 8,
   "id": "f6b8cab1-e4f8-432f-a2a3-6f22c79c9609",
   "metadata": {},
   "outputs": [
    {
     "data": {
      "text/plain": [
       "0.49849849849849853"
      ]
     },
     "execution_count": 8,
     "metadata": {},
     "output_type": "execute_result"
    }
   ],
   "source": [
    "def enn_approx(graph, gamma):\n",
    "    W = (graph + graph.T).asfptype()\n",
    "\n",
    "    e_vals, _ = eigen.eigsh(W, k=W.shape[0] - 1)\n",
    "    n_w = 1 / (1 - gamma)\n",
    "    n_w /= np.sum(e_vals ** 2 / (1 - gamma * e_vals ** 2)) / W.shape[0]\n",
    "    return n_w\n",
    "\n",
    "enn_approx(graph, 0.001)"
   ]
  },
  {
   "cell_type": "markdown",
   "id": "565e9832-92ea-47d0-8ade-db48b18a82ad",
   "metadata": {},
   "source": [
    "## Approximation wth Laplace spectral gap"
   ]
  },
  {
   "cell_type": "code",
   "execution_count": 14,
   "id": "ed7cd2c0-2de0-41d7-8255-cf0417fc857b",
   "metadata": {},
   "outputs": [
    {
     "data": {
      "text/plain": [
       "2.0000000000000004"
      ]
     },
     "execution_count": 14,
     "metadata": {},
     "output_type": "execute_result"
    }
   ],
   "source": [
    "def spectral_gap_approx(graph):\n",
    "    W = (graph + graph.T).asfptype()\n",
    "    Deg = lil_matrix(graph.shape)\n",
    "    degrees = np.asarray(W.sum(-1)).reshape(-1)\n",
    "    for i, d in enumerate(degrees):\n",
    "        Deg[i, i] = d\n",
    "    L = Deg - W\n",
    "    e_vals, _ = eigen.eigsh(W, k=W.shape[0] - 1)\n",
    "    l1, l2 = np.sort(e_vals)[-2:]\n",
    "    return l2 - l1\n",
    "\n",
    "spectral_gap_approx(graph)"
   ]
  },
  {
   "cell_type": "code",
   "execution_count": 112,
   "id": "e7ae4092-cf6c-4d0e-b075-57031f1b502c",
   "metadata": {},
   "outputs": [
    {
     "data": {
      "text/plain": [
       "EdgeView([(0, 1), (0, 2), (1, 3), (1, 4), (2, 5), (2, 6)])"
      ]
     },
     "execution_count": 112,
     "metadata": {},
     "output_type": "execute_result"
    }
   ],
   "source": [
    "g = nx.balanced_tree(2, 2)\n",
    "g.edges\n",
    "# nx.draw(g)"
   ]
  },
  {
   "cell_type": "code",
   "execution_count": 150,
   "id": "3fb354d1-1f42-46af-aef8-c37889f45baf",
   "metadata": {},
   "outputs": [],
   "source": [
    "def gen_graph(r, h, seed=0):\n",
    "    np.random.seed(seed)\n",
    "    g = nx.balanced_tree(r, h)\n",
    "    graph = lil_matrix((len(g.nodes), len(g.nodes)))\n",
    "    for s, t in g.edges:\n",
    "        graph[min(s, t), max(s, t)] = 1\n",
    "    selected_comm = []\n",
    "    for i in range(len(g.nodes)):\n",
    "        for j in range(i + 1, len(g.nodes)):\n",
    "            if np.random.rand() < 0.1:\n",
    "                g.add_edge(i, j)\n",
    "            if np.random.rand() < 0.1:\n",
    "                selected_comm.append([i, j, 1.0])\n",
    "    \n",
    "    # infinite capacity\n",
    "    return graph * 100, selected_comm\n",
    "\n",
    "# print(gen_graph(2, 3)[0])"
   ]
  },
  {
   "cell_type": "code",
   "execution_count": 177,
   "id": "7dd8ddb0-2337-480e-bcd1-9906b4811e69",
   "metadata": {},
   "outputs": [],
   "source": [
    "graphs_comm = [gen_graph(r, h, seed=s) for r in [2,3] \\\n",
    "               for h in [2,3] for s in [1, 3, 7, 13, 51, 57, 60, 70]]"
   ]
  },
  {
   "cell_type": "code",
   "execution_count": 178,
   "id": "c464532a-1c41-48bf-be8f-a546ddc8be90",
   "metadata": {},
   "outputs": [
    {
     "data": {
      "application/vnd.jupyter.widget-view+json": {
       "model_id": "f4baf6fd5bc649149889f527a0a54ed7",
       "version_major": 2,
       "version_minor": 0
      },
      "text/plain": [
       "  0%|          | 0/32 [00:00<?, ?it/s]"
      ]
     },
     "metadata": {},
     "output_type": "display_data"
    },
    {
     "data": {
      "application/vnd.jupyter.widget-view+json": {
       "model_id": "",
       "version_major": 2,
       "version_minor": 0
      },
      "text/plain": [
       "  0%|          | 0/1000 [00:00<?, ?it/s]"
      ]
     },
     "metadata": {},
     "output_type": "display_data"
    },
    {
     "data": {
      "application/vnd.jupyter.widget-view+json": {
       "model_id": "",
       "version_major": 2,
       "version_minor": 0
      },
      "text/plain": [
       "  0%|          | 0/1000 [00:00<?, ?it/s]"
      ]
     },
     "metadata": {},
     "output_type": "display_data"
    },
    {
     "data": {
      "application/vnd.jupyter.widget-view+json": {
       "model_id": "",
       "version_major": 2,
       "version_minor": 0
      },
      "text/plain": [
       "  0%|          | 0/1000 [00:00<?, ?it/s]"
      ]
     },
     "metadata": {},
     "output_type": "display_data"
    },
    {
     "data": {
      "application/vnd.jupyter.widget-view+json": {
       "model_id": "",
       "version_major": 2,
       "version_minor": 0
      },
      "text/plain": [
       "  0%|          | 0/1000 [00:00<?, ?it/s]"
      ]
     },
     "metadata": {},
     "output_type": "display_data"
    },
    {
     "data": {
      "application/vnd.jupyter.widget-view+json": {
       "model_id": "",
       "version_major": 2,
       "version_minor": 0
      },
      "text/plain": [
       "  0%|          | 0/1000 [00:00<?, ?it/s]"
      ]
     },
     "metadata": {},
     "output_type": "display_data"
    },
    {
     "data": {
      "application/vnd.jupyter.widget-view+json": {
       "model_id": "",
       "version_major": 2,
       "version_minor": 0
      },
      "text/plain": [
       "  0%|          | 0/1000 [00:00<?, ?it/s]"
      ]
     },
     "metadata": {},
     "output_type": "display_data"
    },
    {
     "data": {
      "application/vnd.jupyter.widget-view+json": {
       "model_id": "",
       "version_major": 2,
       "version_minor": 0
      },
      "text/plain": [
       "  0%|          | 0/1000 [00:00<?, ?it/s]"
      ]
     },
     "metadata": {},
     "output_type": "display_data"
    },
    {
     "data": {
      "application/vnd.jupyter.widget-view+json": {
       "model_id": "",
       "version_major": 2,
       "version_minor": 0
      },
      "text/plain": [
       "  0%|          | 0/1000 [00:00<?, ?it/s]"
      ]
     },
     "metadata": {},
     "output_type": "display_data"
    },
    {
     "data": {
      "application/vnd.jupyter.widget-view+json": {
       "model_id": "",
       "version_major": 2,
       "version_minor": 0
      },
      "text/plain": [
       "  0%|          | 0/1000 [00:00<?, ?it/s]"
      ]
     },
     "metadata": {},
     "output_type": "display_data"
    },
    {
     "data": {
      "application/vnd.jupyter.widget-view+json": {
       "model_id": "",
       "version_major": 2,
       "version_minor": 0
      },
      "text/plain": [
       "  0%|          | 0/1000 [00:00<?, ?it/s]"
      ]
     },
     "metadata": {},
     "output_type": "display_data"
    },
    {
     "data": {
      "application/vnd.jupyter.widget-view+json": {
       "model_id": "",
       "version_major": 2,
       "version_minor": 0
      },
      "text/plain": [
       "  0%|          | 0/1000 [00:00<?, ?it/s]"
      ]
     },
     "metadata": {},
     "output_type": "display_data"
    },
    {
     "data": {
      "application/vnd.jupyter.widget-view+json": {
       "model_id": "",
       "version_major": 2,
       "version_minor": 0
      },
      "text/plain": [
       "  0%|          | 0/1000 [00:00<?, ?it/s]"
      ]
     },
     "metadata": {},
     "output_type": "display_data"
    },
    {
     "data": {
      "application/vnd.jupyter.widget-view+json": {
       "model_id": "",
       "version_major": 2,
       "version_minor": 0
      },
      "text/plain": [
       "  0%|          | 0/1000 [00:00<?, ?it/s]"
      ]
     },
     "metadata": {},
     "output_type": "display_data"
    },
    {
     "data": {
      "application/vnd.jupyter.widget-view+json": {
       "model_id": "",
       "version_major": 2,
       "version_minor": 0
      },
      "text/plain": [
       "  0%|          | 0/1000 [00:00<?, ?it/s]"
      ]
     },
     "metadata": {},
     "output_type": "display_data"
    },
    {
     "data": {
      "application/vnd.jupyter.widget-view+json": {
       "model_id": "",
       "version_major": 2,
       "version_minor": 0
      },
      "text/plain": [
       "  0%|          | 0/1000 [00:00<?, ?it/s]"
      ]
     },
     "metadata": {},
     "output_type": "display_data"
    },
    {
     "data": {
      "application/vnd.jupyter.widget-view+json": {
       "model_id": "",
       "version_major": 2,
       "version_minor": 0
      },
      "text/plain": [
       "  0%|          | 0/1000 [00:00<?, ?it/s]"
      ]
     },
     "metadata": {},
     "output_type": "display_data"
    },
    {
     "data": {
      "application/vnd.jupyter.widget-view+json": {
       "model_id": "",
       "version_major": 2,
       "version_minor": 0
      },
      "text/plain": [
       "  0%|          | 0/1000 [00:00<?, ?it/s]"
      ]
     },
     "metadata": {},
     "output_type": "display_data"
    },
    {
     "data": {
      "application/vnd.jupyter.widget-view+json": {
       "model_id": "",
       "version_major": 2,
       "version_minor": 0
      },
      "text/plain": [
       "  0%|          | 0/1000 [00:00<?, ?it/s]"
      ]
     },
     "metadata": {},
     "output_type": "display_data"
    },
    {
     "data": {
      "application/vnd.jupyter.widget-view+json": {
       "model_id": "",
       "version_major": 2,
       "version_minor": 0
      },
      "text/plain": [
       "  0%|          | 0/1000 [00:00<?, ?it/s]"
      ]
     },
     "metadata": {},
     "output_type": "display_data"
    },
    {
     "data": {
      "application/vnd.jupyter.widget-view+json": {
       "model_id": "",
       "version_major": 2,
       "version_minor": 0
      },
      "text/plain": [
       "  0%|          | 0/1000 [00:00<?, ?it/s]"
      ]
     },
     "metadata": {},
     "output_type": "display_data"
    },
    {
     "data": {
      "application/vnd.jupyter.widget-view+json": {
       "model_id": "",
       "version_major": 2,
       "version_minor": 0
      },
      "text/plain": [
       "  0%|          | 0/1000 [00:00<?, ?it/s]"
      ]
     },
     "metadata": {},
     "output_type": "display_data"
    },
    {
     "data": {
      "application/vnd.jupyter.widget-view+json": {
       "model_id": "",
       "version_major": 2,
       "version_minor": 0
      },
      "text/plain": [
       "  0%|          | 0/1000 [00:00<?, ?it/s]"
      ]
     },
     "metadata": {},
     "output_type": "display_data"
    },
    {
     "data": {
      "application/vnd.jupyter.widget-view+json": {
       "model_id": "",
       "version_major": 2,
       "version_minor": 0
      },
      "text/plain": [
       "  0%|          | 0/1000 [00:00<?, ?it/s]"
      ]
     },
     "metadata": {},
     "output_type": "display_data"
    },
    {
     "data": {
      "application/vnd.jupyter.widget-view+json": {
       "model_id": "",
       "version_major": 2,
       "version_minor": 0
      },
      "text/plain": [
       "  0%|          | 0/1000 [00:00<?, ?it/s]"
      ]
     },
     "metadata": {},
     "output_type": "display_data"
    },
    {
     "data": {
      "application/vnd.jupyter.widget-view+json": {
       "model_id": "",
       "version_major": 2,
       "version_minor": 0
      },
      "text/plain": [
       "  0%|          | 0/1000 [00:00<?, ?it/s]"
      ]
     },
     "metadata": {},
     "output_type": "display_data"
    },
    {
     "data": {
      "application/vnd.jupyter.widget-view+json": {
       "model_id": "",
       "version_major": 2,
       "version_minor": 0
      },
      "text/plain": [
       "  0%|          | 0/1000 [00:00<?, ?it/s]"
      ]
     },
     "metadata": {},
     "output_type": "display_data"
    },
    {
     "data": {
      "application/vnd.jupyter.widget-view+json": {
       "model_id": "",
       "version_major": 2,
       "version_minor": 0
      },
      "text/plain": [
       "  0%|          | 0/1000 [00:00<?, ?it/s]"
      ]
     },
     "metadata": {},
     "output_type": "display_data"
    },
    {
     "data": {
      "application/vnd.jupyter.widget-view+json": {
       "model_id": "",
       "version_major": 2,
       "version_minor": 0
      },
      "text/plain": [
       "  0%|          | 0/1000 [00:00<?, ?it/s]"
      ]
     },
     "metadata": {},
     "output_type": "display_data"
    },
    {
     "data": {
      "application/vnd.jupyter.widget-view+json": {
       "model_id": "",
       "version_major": 2,
       "version_minor": 0
      },
      "text/plain": [
       "  0%|          | 0/1000 [00:00<?, ?it/s]"
      ]
     },
     "metadata": {},
     "output_type": "display_data"
    },
    {
     "data": {
      "application/vnd.jupyter.widget-view+json": {
       "model_id": "",
       "version_major": 2,
       "version_minor": 0
      },
      "text/plain": [
       "  0%|          | 0/1000 [00:00<?, ?it/s]"
      ]
     },
     "metadata": {},
     "output_type": "display_data"
    },
    {
     "data": {
      "application/vnd.jupyter.widget-view+json": {
       "model_id": "",
       "version_major": 2,
       "version_minor": 0
      },
      "text/plain": [
       "  0%|          | 0/1000 [00:00<?, ?it/s]"
      ]
     },
     "metadata": {},
     "output_type": "display_data"
    },
    {
     "data": {
      "application/vnd.jupyter.widget-view+json": {
       "model_id": "",
       "version_major": 2,
       "version_minor": 0
      },
      "text/plain": [
       "  0%|          | 0/1000 [00:00<?, ?it/s]"
      ]
     },
     "metadata": {},
     "output_type": "display_data"
    }
   ],
   "source": [
    "mcfp_sol = [mcfp(graph, D) for graph, D in tqdm(graphs_comm)]\n"
   ]
  },
  {
   "cell_type": "code",
   "execution_count": 179,
   "id": "a4e448c2-5d7d-4b0a-a716-0893ef333302",
   "metadata": {},
   "outputs": [],
   "source": [
    "gaps = [spectral_gap_approx(graph) for graph, _ in graphs_comm]\n",
    "# gaps"
   ]
  },
  {
   "cell_type": "code",
   "execution_count": 180,
   "id": "88253c2e-1cd0-47d3-8da6-6c7cc58fed0e",
   "metadata": {},
   "outputs": [
    {
     "data": {
      "text/plain": [
       "KendalltauResult(correlation=0.1610702689090644, pvalue=0.1993491244016743)"
      ]
     },
     "execution_count": 180,
     "metadata": {},
     "output_type": "execute_result"
    },
    {
     "data": {
      "image/png": "[encoded data removed]",
      "text/plain": [
       "<Figure size 640x480 with 1 Axes>"
      ]
     },
     "metadata": {},
     "output_type": "display_data"
    }
   ],
   "source": [
    "plt.scatter(gaps, mcfp_sol)\n",
    "kendalltau(gaps, mcfp_sol)"
   ]
  },
  {
   "cell_type": "code",
   "execution_count": 181,
   "id": "e0c958c8-b621-438e-91cc-6715dadf8884",
   "metadata": {},
   "outputs": [
    {
     "data": {
      "text/plain": [
       "KendalltauResult(correlation=0.06933752452815364, pvalue=0.6053053397590884)"
      ]
     },
     "execution_count": 181,
     "metadata": {},
     "output_type": "execute_result"
    },
    {
     "data": {
      "image/png": "[encoded data removed]",
      "text/plain": [
       "<Figure size 640x480 with 1 Axes>"
      ]
     },
     "metadata": {},
     "output_type": "display_data"
    }
   ],
   "source": [
    "n_eff = [enn_approx(graph, 0.1) for graph, D in graphs_comm]\n",
    "plt.scatter(n_eff, mcfp_sol)\n",
    "kendalltau(n_eff, mcfp_sol)"
   ]
  },
  {
   "cell_type": "markdown",
   "id": "9a4bd049-95fd-48be-987b-3126a9d210a0",
   "metadata": {},
   "source": [
    "## Conclusion\n",
    "\n",
    "Spectral gap of the Laplace matrix and effective number of neighbours \n",
    "do not correlate with the solution of the MCFP.\n",
    "\n",
    "__Possible reasons__\n",
    "\n",
    "1. The proposed metrix do not consider the set of commodities.\n",
    "2. Additionally, spetral metrics do not consider capacities.\n",
    "\n"
   ]
  },
  {
   "cell_type": "code",
   "execution_count": 182,
   "id": "ea7a8f64-c3b3-40fa-85d7-9c5281587c72",
   "metadata": {},
   "outputs": [],
   "source": [
    "! open ."
   ]
  },
  {
   "cell_type": "code",
   "execution_count": null,
   "id": "7d1574d3-551c-4575-8a14-4acf355756cb",
   "metadata": {},
   "outputs": [],
   "source": []
  },
  {
   "cell_type": "code",
   "execution_count": null,
   "id": "c6349e49-6ab9-4e53-b4aa-a0b0d9e00034",
   "metadata": {},
   "outputs": [],
   "source": []
  }
 ],
 "metadata": {
  "kernelspec": {
   "display_name": "Python 3 (ipykernel)",
   "language": "python",
   "name": "python3"
  },
  "language_info": {
   "codemirror_mode": {
    "name": "ipython",
    "version": 3
   },
   "file_extension": ".py",
   "mimetype": "text/x-python",
   "name": "python",
   "nbconvert_exporter": "python",
   "pygments_lexer": "ipython3",
   "version": "3.7.13"
  }
 },
 "nbformat": 4,
 "nbformat_minor": 5
}
