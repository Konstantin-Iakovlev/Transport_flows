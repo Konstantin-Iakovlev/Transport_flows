{
 "cells": [
  {
   "cell_type": "code",
   "execution_count": 146,
   "id": "88621972-1f45-4a88-9e3c-8d33f897b969",
   "metadata": {},
   "outputs": [],
   "source": [
    "import numpy as np\n",
    "from matplotlib import pyplot as plt\n",
    "\n",
    "from scipy.sparse import csr_matrix, lil_matrix\n",
    "from scipy.sparse.csgraph import dijkstra\n",
    "from scipy.sparse.linalg import norm, eigen\n",
    "\n",
    "from matplotlib import pyplot as plt\n",
    "import networkx as nx\n",
    "\n",
    "from tqdm.auto import tqdm\n",
    "from scipy.stats import kendalltau, spearmanr\n",
    "\n",
    "from load_data import *"
   ]
  },
  {
   "cell_type": "code",
   "execution_count": 133,
   "id": "cc1b4dae-fa57-4be5-8eae-2cba46be9833",
   "metadata": {},
   "outputs": [],
   "source": [
    "# Barcelona\n",
    "path_net = Path('networks/transport_networks/Barcelona/Barcelona_net.tntp')\n",
    "path_trips = Path('networks/transport_networks/Barcelona/Barcelona_trips.tntp')\n",
    "metadata = read_metadata_networks_tntp('networks/transport_networks/Barcelona/Barcelona_net.tntp')\n",
    "\n",
    "# Winnipeg\n",
    "path_net = Path('networks/transport_networks/Winnipeg/Winnipeg_net.tntp')\n",
    "path_trips = Path('networks/transport_networks/Winnipeg/Winnipeg_trips.tntp')\n",
    "metadata = read_metadata_networks_tntp('networks/transport_networks/Winnipeg/Winnipeg_net.tntp')\n",
    "\n",
    "# Eastern-Massachusetts\n",
    "path_net = Path('networks/transport_networks/Eastern-Massachusetts/EMA_net.tntp')\n",
    "path_trips = Path('networks/transport_networks/Eastern-Massachusetts/EMA_trips.tntp')\n",
    "metadata = read_metadata_networks_tntp('networks/transport_networks/Eastern-Massachusetts/EMA_net.tntp')\n",
    "\n",
    "# Anaheim\n",
    "path_net = Path('networks/transport_networks/Anaheim/Anaheim_net.tntp')\n",
    "path_trips = Path('networks/transport_networks/Anaheim/Anaheim_trips.tntp')\n",
    "metadata = read_metadata_networks_tntp('networks/transport_networks/Anaheim/Anaheim_net.tntp')\n",
    "\n",
    "\n",
    "# Berlin-Mitte-Center\n",
    "path_net = Path('networks/transport_networks/Berlin-Mitte-Center/berlin-mitte-center_net.tntp')\n",
    "path_trips = Path('networks/transport_networks/Berlin-Mitte-Center/berlin-mitte-center_trips.tntp')\n",
    "metadata = read_metadata_networks_tntp('networks/transport_networks/Berlin-Mitte-Center/berlin-mitte-center_net.tntp')\n",
    "\n",
    "\n",
    "# Berlin-Friedrichshain\n",
    "path_net = Path('networks/transport_networks/Berlin-Friedrichshain/friedrichshain-center_net.tntp')\n",
    "path_trips = Path('networks/transport_networks/Berlin-Friedrichshain/friedrichshain-center_trips.tntp')\n",
    "metadata = read_metadata_networks_tntp('networks/transport_networks/Berlin-Friedrichshain/friedrichshain-center_net.tntp')\n",
    "\n",
    "# Berlin-Prenzlauerberg-Center\n",
    "path_net = Path('networks/transport_networks/Berlin-Prenzlauerberg-Center/berlin-prenzlauerberg-center_net.tntp')\n",
    "path_trips = Path('networks/transport_networks/Berlin-Prenzlauerberg-Center/berlin-prenzlauerberg-center_trips.tntp')\n",
    "metadata = read_metadata_networks_tntp('networks/transport_networks/Berlin-Prenzlauerberg-Center/berlin-prenzlauerberg-center_net.tntp')\n",
    "\n",
    "# Berlin-Tiergarten\n",
    "path_net = Path('networks/transport_networks/Berlin-Tiergarten/berlin-tiergarten_net.tntp')\n",
    "path_trips = Path('networks/transport_networks/Berlin-Tiergarten/berlin-tiergarten_trips.tntp')\n",
    "metadata = read_metadata_networks_tntp('networks/transport_networks/Berlin-Tiergarten/berlin-tiergarten_net.tntp')\n",
    "\n",
    "# Hessen\n",
    "# path_net = Path('networks/transport_networks/Hessen-Asymmetric/Hessen-Asym_net.tntp')\n",
    "# path_trips = Path('networks/transport_networks/Hessen-Asymmetric/Hessen-Asym_trips.tntp')\n",
    "# metadata = read_metadata_networks_tntp('networks/transport_networks/Hessen-Asymmetric/Hessen-Asym_net.tntp')\n",
    "\n",
    "# Terassa\n",
    "path_net = Path('networks/transport_networks/Terrassa-Asymmetric/Terrassa-Asym_net.tntp')\n",
    "path_trips = Path('networks/transport_networks/Terrassa-Asymmetric/Terrassa-Asym_trips.tntp')\n",
    "metadata = read_metadata_networks_tntp('networks/transport_networks/Terrassa-Asymmetric/Terrassa-Asym_net.tntp')\n"
   ]
  },
  {
   "cell_type": "code",
   "execution_count": 134,
   "id": "e69aa8cf-fa84-4647-96a6-847a8f911200",
   "metadata": {},
   "outputs": [
    {
     "data": {
      "text/plain": [
       "(1664, 1664)"
      ]
     },
     "execution_count": 134,
     "metadata": {},
     "output_type": "execute_result"
    }
   ],
   "source": [
    "graph_raw = read_graph_transport_networks_tntp(path_net)\n",
    "\n",
    "graph = lil_matrix((len(graph_raw.nodes), len(graph_raw.nodes)))\n",
    "graph.shape\n",
    "\n",
    "for s, t in graph_raw.edges:\n",
    "    graph[int(s), int(t)] = 1.0\n",
    "    \n",
    "graph.shape"
   ]
  },
  {
   "cell_type": "code",
   "execution_count": 135,
   "id": "91de0c7f-b9bd-4b80-9b13-cbdbdf7b05e2",
   "metadata": {},
   "outputs": [
    {
     "data": {
      "text/plain": [
       "[[0, 1610, 0.0044442653], [0, 1611, 0.021343429], [0, 1612, 0.10671714]]"
      ]
     },
     "execution_count": 135,
     "metadata": {},
     "output_type": "execute_result"
    }
   ],
   "source": [
    "trc_mat = read_traffic_mat_transport_networks_tntp(path_trips, metadata)\n",
    "trc_mat /= trc_mat.max()\n",
    "\n",
    "D = []\n",
    "for s, t in zip(*trc_mat.nonzero()):\n",
    "    D.append([s, t, trc_mat[s, t]])\n",
    "\n",
    "D[:3]"
   ]
  },
  {
   "cell_type": "code",
   "execution_count": 96,
   "id": "11b13fa4-ac02-4597-bd5d-286f041e3ae3",
   "metadata": {},
   "outputs": [],
   "source": [
    "# graph = [\n",
    "# [0, 1, 2, 0],\n",
    "# [0, 0, 0, 1],\n",
    "# [0, 0, 0, 3],\n",
    "# [0, 0, 0, 0]\n",
    "# ]\n",
    "# graph = csr_matrix(graph)\n",
    "# print(graph)\n",
    "# dijkstra(csgraph=graph, directed=False, indices=None, return_predecessors=True)"
   ]
  },
  {
   "cell_type": "markdown",
   "id": "c07822bf-13c4-4354-b6fc-609b93bfe1c7",
   "metadata": {},
   "source": [
    "## Toy MCFP"
   ]
  },
  {
   "cell_type": "code",
   "execution_count": 97,
   "id": "95892eda-d516-4342-b984-35b038c1b09e",
   "metadata": {},
   "outputs": [],
   "source": [
    "# # f_e; upper triangular\n",
    "# graph = [\n",
    "# [0, 1, 1, 0],\n",
    "# [0, 0, 0, 1],\n",
    "# [0, 0, 0, 1],\n",
    "# [0, 0, 0, 0]\n",
    "# ]\n",
    "# graph = csr_matrix(graph)\n",
    "\n",
    "# # commodities: from, to, d\n",
    "# D = [(0, 2, 1)]\n"
   ]
  },
  {
   "cell_type": "code",
   "execution_count": 98,
   "id": "2269c1b9-b6b8-4a92-bd78-f9ab3b13d5ba",
   "metadata": {},
   "outputs": [
    {
     "data": {
      "application/vnd.jupyter.widget-view+json": {
       "model_id": "df945333354c480e9525e3bd1d7aab5f",
       "version_major": 2,
       "version_minor": 0
      },
      "text/plain": [
       "  0%|          | 0/1000 [00:00<?, ?it/s]"
      ]
     },
     "metadata": {},
     "output_type": "display_data"
    },
    {
     "name": "stdout",
     "output_type": "stream",
     "text": [
      "1.2845948145421775\n",
      "1.137696977830202\n",
      "1.046615989974506\n",
      "1.0026625363043553\n"
     ]
    },
    {
     "ename": "KeyboardInterrupt",
     "evalue": "",
     "output_type": "error",
     "traceback": [
      "\u001b[0;31m---------------------------------------------------------------------------\u001b[0m",
      "\u001b[0;31mKeyboardInterrupt\u001b[0m                         Traceback (most recent call last)",
      "\u001b[0;32m/var/folders/8m/_bn9wq4x2_75sm3mp0bcylzr0000gn/T/ipykernel_46224/3378024039.py\u001b[0m in \u001b[0;36m<module>\u001b[0;34m\u001b[0m\n\u001b[1;32m     46\u001b[0m     \u001b[0;32mreturn\u001b[0m \u001b[0mmin\u001b[0m\u001b[0;34m(\u001b[0m\u001b[0mlosses\u001b[0m\u001b[0;34m)\u001b[0m\u001b[0;34m\u001b[0m\u001b[0;34m\u001b[0m\u001b[0m\n\u001b[1;32m     47\u001b[0m \u001b[0;34m\u001b[0m\u001b[0m\n\u001b[0;32m---> 48\u001b[0;31m \u001b[0mmcfp\u001b[0m\u001b[0;34m(\u001b[0m\u001b[0mgraph\u001b[0m\u001b[0;34m,\u001b[0m \u001b[0mD\u001b[0m\u001b[0;34m)\u001b[0m\u001b[0;34m\u001b[0m\u001b[0;34m\u001b[0m\u001b[0m\n\u001b[0m",
      "\u001b[0;32m/var/folders/8m/_bn9wq4x2_75sm3mp0bcylzr0000gn/T/ipykernel_46224/3378024039.py\u001b[0m in \u001b[0;36mmcfp\u001b[0;34m(graph, D, eta_f, eta_g, eps, seed, n_iter)\u001b[0m\n\u001b[1;32m     26\u001b[0m             \u001b[0;32mwhile\u001b[0m \u001b[0mcur_node\u001b[0m \u001b[0;34m!=\u001b[0m \u001b[0ms\u001b[0m\u001b[0;34m:\u001b[0m\u001b[0;34m\u001b[0m\u001b[0;34m\u001b[0m\u001b[0m\n\u001b[1;32m     27\u001b[0m                 \u001b[0mgrad\u001b[0m\u001b[0;34m[\u001b[0m\u001b[0mpred\u001b[0m\u001b[0;34m[\u001b[0m\u001b[0msrc_to_ids\u001b[0m\u001b[0;34m[\u001b[0m\u001b[0ms\u001b[0m\u001b[0;34m]\u001b[0m\u001b[0;34m,\u001b[0m \u001b[0mcur_node\u001b[0m\u001b[0;34m]\u001b[0m\u001b[0;34m,\u001b[0m \u001b[0mcur_node\u001b[0m\u001b[0;34m]\u001b[0m \u001b[0;34m+=\u001b[0m \u001b[0md\u001b[0m\u001b[0;34m\u001b[0m\u001b[0;34m\u001b[0m\u001b[0m\n\u001b[0;32m---> 28\u001b[0;31m                 \u001b[0mcur_node\u001b[0m \u001b[0;34m=\u001b[0m \u001b[0mpred\u001b[0m\u001b[0;34m[\u001b[0m\u001b[0msrc_to_ids\u001b[0m\u001b[0;34m[\u001b[0m\u001b[0ms\u001b[0m\u001b[0;34m]\u001b[0m\u001b[0;34m,\u001b[0m \u001b[0mcur_node\u001b[0m\u001b[0;34m]\u001b[0m\u001b[0;34m\u001b[0m\u001b[0;34m\u001b[0m\u001b[0m\n\u001b[0m\u001b[1;32m     29\u001b[0m             \u001b[0mbudget\u001b[0m \u001b[0;34m+=\u001b[0m \u001b[0md\u001b[0m \u001b[0;34m*\u001b[0m \u001b[0mdist\u001b[0m\u001b[0;34m[\u001b[0m\u001b[0msrc_to_ids\u001b[0m\u001b[0;34m[\u001b[0m\u001b[0ms\u001b[0m\u001b[0;34m]\u001b[0m\u001b[0;34m,\u001b[0m \u001b[0mt\u001b[0m\u001b[0;34m]\u001b[0m\u001b[0;34m\u001b[0m\u001b[0;34m\u001b[0m\u001b[0m\n\u001b[1;32m     30\u001b[0m         \u001b[0;32massert\u001b[0m \u001b[0mnorm\u001b[0m\u001b[0;34m(\u001b[0m\u001b[0mgrad\u001b[0m\u001b[0;34m)\u001b[0m \u001b[0;34m>\u001b[0m \u001b[0;36m0\u001b[0m\u001b[0;34m\u001b[0m\u001b[0;34m\u001b[0m\u001b[0m\n",
      "\u001b[0;31mKeyboardInterrupt\u001b[0m: "
     ]
    }
   ],
   "source": [
    "def mcfp(graph, D, eta_f=1e-1, eta_g=1e-1, eps=1e-3, seed=0, n_iter=1_000):\n",
    "    rows, cols = graph.nonzero()\n",
    "    np.random.seed(seed)\n",
    "    # initialization\n",
    "    y = csr_matrix((np.ones(rows.shape), (rows, cols)), shape=graph.shape)\n",
    "    dist, pred = dijkstra(csgraph=y, directed=True, indices=None, return_predecessors=True)\n",
    "    budget = 0.0\n",
    "    for s, t, d in D:\n",
    "        cur_node = t\n",
    "        while cur_node != s:\n",
    "            cur_node = pred[s, cur_node]\n",
    "        budget += d * dist[s, t]\n",
    "    assert budget > 1.0\n",
    "    y *= 1.5 / budget\n",
    "    \n",
    "    src_to_ids = {node: i for i, node in enumerate(set([el[0] for el in D]))}\n",
    "    losses = []\n",
    "    n_g = 0\n",
    "    for k in tqdm(range(n_iter), leave=False):\n",
    "        budget = -1.0\n",
    "        dist, pred = dijkstra(csgraph=y, directed=True, indices=[node for node in src_to_ids],\n",
    "                              return_predecessors=True)\n",
    "        grad = lil_matrix(graph.shape) * 0 # sum d_k grad l_k\n",
    "        for s, t, d in D:\n",
    "            cur_node = t\n",
    "            while cur_node != s:\n",
    "                grad[pred[src_to_ids[s], cur_node], cur_node] += d\n",
    "                cur_node = pred[src_to_ids[s], cur_node]\n",
    "            budget += d * dist[src_to_ids[s], t]\n",
    "        assert norm(grad) > 0\n",
    "\n",
    "        if budget < -eps:\n",
    "            y += eta_g * grad / norm(grad) / np.sqrt(k + 1)\n",
    "            n_g += 1\n",
    "        else:\n",
    "            losses.append((y.multiply(graph)).sum())\n",
    "            y -= eta_f * graph / norm(graph) / np.sqrt(k + 1)\n",
    "\n",
    "        # clip\n",
    "        y.data = np.where(y.data < 0, 0, y.data)\n",
    "        if len(losses) > 1 and abs(losses[-1] - losses[-2]) < eps:\n",
    "            break\n",
    "        if k % 50 == 0 and k > 0:\n",
    "            print(min(losses))\n",
    "                \n",
    "    return min(losses)\n",
    "    \n",
    "mcfp(graph, D)"
   ]
  },
  {
   "cell_type": "markdown",
   "id": "0aa07ca8-e395-4cc5-8c10-886dca8e2465",
   "metadata": {},
   "source": [
    "## Approximation with effective number of neighbours"
   ]
  },
  {
   "cell_type": "code",
   "execution_count": 136,
   "id": "f6b8cab1-e4f8-432f-a2a3-6f22c79c9609",
   "metadata": {},
   "outputs": [
    {
     "data": {
      "text/plain": [
       "0.16932464177162726"
      ]
     },
     "execution_count": 136,
     "metadata": {},
     "output_type": "execute_result"
    }
   ],
   "source": [
    "def enn_approx(graph, gamma):\n",
    "    W = (graph + graph.T).asfptype()\n",
    "\n",
    "    e_vals, _ = eigen.eigsh(W, k=W.shape[0] - 1)\n",
    "    n_w = 1 / (1 - gamma)\n",
    "    n_w /= np.sum(e_vals ** 2 / (1 - gamma * e_vals ** 2)) / W.shape[0]\n",
    "    return n_w\n",
    "\n",
    "enn_approx(graph, 0.001)"
   ]
  },
  {
   "cell_type": "markdown",
   "id": "565e9832-92ea-47d0-8ade-db48b18a82ad",
   "metadata": {},
   "source": [
    "## Approximation wth Laplace spectral gap"
   ]
  },
  {
   "cell_type": "code",
   "execution_count": 80,
   "id": "ed7cd2c0-2de0-41d7-8255-cf0417fc857b",
   "metadata": {},
   "outputs": [
    {
     "data": {
      "text/plain": [
       "0.05362114970053167"
      ]
     },
     "execution_count": 80,
     "metadata": {},
     "output_type": "execute_result"
    }
   ],
   "source": [
    "def spectral_gap_approx(graph):\n",
    "    W = (graph + graph.T).asfptype()\n",
    "    Deg = lil_matrix(graph.shape)\n",
    "    degrees = np.asarray(W.sum(-1)).reshape(-1)\n",
    "    for i, d in enumerate(degrees):\n",
    "        Deg[i, i] = d\n",
    "    L = Deg - W\n",
    "    e_vals, _ = eigen.eigsh(W, k=2)\n",
    "    l1, l2 = np.sort(e_vals)[-2:]\n",
    "    return l2 - l1#, e_vals.max() / e_vals[e_vals > 0].min()\n",
    "\n",
    "spectral_gap_approx(graph)"
   ]
  },
  {
   "cell_type": "code",
   "execution_count": 137,
   "id": "190b85e7-c652-4c69-b3b6-c052de3b65b6",
   "metadata": {},
   "outputs": [],
   "source": [
    "results = {\n",
    "    'Barcelona': {'solution': 0.796, 'enn_1e-2': 0.131, 'enn_1e-3': 0.162, 'spec_gap': 0.971},\n",
    "    'Winnipeg': {'solution': 0.358, 'enn_1e-2': 0.098, 'enn_1e-3': 0.123, 'spec_gap': 1.347},\n",
    "    'EMA': {'solution': 0.525, 'enn_1e-2': 0.037, 'enn_1e-3': 0.069, 'spec_gap': 0.4778},\n",
    "    'Anaheim': {'solution': 0.162, 'enn_1e-2': 0.131, 'enn_1e-3': 0.163, 'spec_gap': 0.542},\n",
    "    'Berlin-Mitte-Center': {'solution': 0.137, 'enn_1e-2': 0.181, 'enn_1e-3': 0.206, 'spec_gap': 0.332},\n",
    "    'Berlin-Friedrichshain': {'solution': 0.406, 'enn_1e-2': 0.168, 'enn_1e-3': 0.193, 'spec_gap': 0.079},\n",
    "    'Berlin-Prenzlauerberg-Center': {'solution': 0.09, 'enn_1e-2': 0.204, 'enn_1e-3': 0.229, 'spec_gap': 0.234},\n",
    "    'Berlin-Tiergarten': {'solution': 0.411, 'enn_1e-2': 0.189, 'enn_1e-3': 0.212, 'spec_gap': 0.016},\n",
    "    # 'Hessen': {'solution': 1.115, 'enn': 0, 'spec_gap': 0.227}, # enn is slow\n",
    "    'Terassa': {'solution': 0.589, 'enn_1e-2': 0.149, 'enn_1e-3': 0.169, 'spec_gap': 0.053},\n",
    "}"
   ]
  },
  {
   "cell_type": "code",
   "execution_count": 144,
   "id": "9a83995c-1739-4844-ae80-11ada091575e",
   "metadata": {},
   "outputs": [
    {
     "data": {
      "image/png": "[encoded data removed]",
      "text/plain": [
       "<Figure size 1000x300 with 1 Axes>"
      ]
     },
     "metadata": {},
     "output_type": "display_data"
    },
    {
     "data": {
      "text/plain": [
       "KendalltauResult(correlation=0.0, pvalue=1.0)"
      ]
     },
     "execution_count": 144,
     "metadata": {},
     "output_type": "execute_result"
    }
   ],
   "source": [
    "plt.figure(figsize=(10, 3))\n",
    "sol = [r['solution'] for r in results.values()]\n",
    "spec = [r['spec_gap'] for r in results.values()]\n",
    "plt.scatter(sol, spec)\n",
    "plt.xlabel('exact solution')\n",
    "plt.ylabel('spectral gap')\n",
    "\n",
    "plt.show()\n",
    "kendalltau(sol, spec)"
   ]
  },
  {
   "cell_type": "code",
   "execution_count": 148,
   "id": "6bf788d0-8a79-4ed4-a688-3f03adeadf08",
   "metadata": {},
   "outputs": [
    {
     "data": {
      "image/png": "[encoded data removed]",
      "text/plain": [
       "<Figure size 1000x300 with 1 Axes>"
      ]
     },
     "metadata": {},
     "output_type": "display_data"
    },
    {
     "data": {
      "text/plain": [
       "KendalltauResult(correlation=-0.36623351038235713, pvalue=0.17295491798842078)"
      ]
     },
     "execution_count": 148,
     "metadata": {},
     "output_type": "execute_result"
    }
   ],
   "source": [
    "plt.figure(figsize=(10, 3))\n",
    "sol = [r['solution'] for r in results.values()]\n",
    "enn = [r['enn_1e-2'] for r in results.values()]\n",
    "plt.scatter(sol, enn)\n",
    "plt.xlabel('exact solution')\n",
    "plt.ylabel('spectral gap')\n",
    "\n",
    "plt.show()\n",
    "kendalltau(sol, enn)"
   ]
  },
  {
   "cell_type": "markdown",
   "id": "e64f47bb-5a4a-4348-8b94-b2df45f01181",
   "metadata": {},
   "source": [
    "## Experiment with synthetic graphs"
   ]
  },
  {
   "cell_type": "code",
   "execution_count": 12,
   "id": "e7ae4092-cf6c-4d0e-b075-57031f1b502c",
   "metadata": {},
   "outputs": [
    {
     "data": {
      "text/plain": [
       "EdgeView([(0, 1), (0, 2), (1, 3), (1, 4), (2, 5), (2, 6)])"
      ]
     },
     "execution_count": 12,
     "metadata": {},
     "output_type": "execute_result"
    }
   ],
   "source": [
    "g = nx.balanced_tree(2, 2)\n",
    "g.edges\n",
    "# nx.draw(g)"
   ]
  },
  {
   "cell_type": "code",
   "execution_count": 18,
   "id": "3fb354d1-1f42-46af-aef8-c37889f45baf",
   "metadata": {},
   "outputs": [],
   "source": [
    "def gen_graph(r, h, seed=0):\n",
    "    np.random.seed(seed)\n",
    "    g = nx.balanced_tree(r, h)\n",
    "    graph = lil_matrix((len(g.nodes), len(g.nodes)))\n",
    "    for s, t in g.edges:\n",
    "        graph[min(s, t), max(s, t)] = 1\n",
    "    selected_comm = [(0, 1, 1)]\n",
    "    for i in range(len(g.nodes)):\n",
    "        for j in range(i + 1, len(g.nodes)):\n",
    "            if np.random.rand() < 0.1:\n",
    "                g.add_edge(i, j)\n",
    "            if np.random.rand() < 0.1 and i != 0 and j != 1:\n",
    "                selected_comm.append([i, j, 1.0])\n",
    "    \n",
    "    # infinite capacity\n",
    "    return graph * 100, selected_comm\n",
    "\n",
    "# print(gen_graph(2, 3)[0])"
   ]
  },
  {
   "cell_type": "code",
   "execution_count": 19,
   "id": "7dd8ddb0-2337-480e-bcd1-9906b4811e69",
   "metadata": {},
   "outputs": [],
   "source": [
    "graphs_comm = [gen_graph(r, h, seed=s) for r in [2,3] \\\n",
    "               for h in [2,3] for s in range(10)]"
   ]
  },
  {
   "cell_type": "code",
   "execution_count": 20,
   "id": "c464532a-1c41-48bf-be8f-a546ddc8be90",
   "metadata": {},
   "outputs": [
    {
     "data": {
      "application/vnd.jupyter.widget-view+json": {
       "model_id": "42bfb705dc294043baaa8c383707a1fd",
       "version_major": 2,
       "version_minor": 0
      },
      "text/plain": [
       "  0%|          | 0/40 [00:00<?, ?it/s]"
      ]
     },
     "metadata": {},
     "output_type": "display_data"
    },
    {
     "data": {
      "application/vnd.jupyter.widget-view+json": {
       "model_id": "",
       "version_major": 2,
       "version_minor": 0
      },
      "text/plain": [
       "  0%|          | 0/1000 [00:00<?, ?it/s]"
      ]
     },
     "metadata": {},
     "output_type": "display_data"
    },
    {
     "name": "stdout",
     "output_type": "stream",
     "text": [
      "234.1523613551024\n",
      "171.89386629285383\n",
      "125.52893871896464\n",
      "99.94009176967906\n",
      "99.90238524989951\n",
      "99.90238524989951\n",
      "99.90238524989951\n",
      "99.90238524989951\n",
      "99.90238524989951\n",
      "99.90238524989951\n",
      "99.90238524989951\n",
      "99.90238524989951\n",
      "99.90238524989951\n",
      "99.90238524989951\n",
      "99.90238524989951\n",
      "99.90238524989951\n",
      "99.90238524989951\n",
      "99.90238524989951\n",
      "99.90072349572631\n"
     ]
    },
    {
     "data": {
      "application/vnd.jupyter.widget-view+json": {
       "model_id": "",
       "version_major": 2,
       "version_minor": 0
      },
      "text/plain": [
       "  0%|          | 0/1000 [00:00<?, ?it/s]"
      ]
     },
     "metadata": {},
     "output_type": "display_data"
    },
    {
     "name": "stdout",
     "output_type": "stream",
     "text": [
      "234.15236135510244\n",
      "171.89386629285383\n",
      "125.52893871896464\n",
      "99.94009176967906\n",
      "99.90238524989951\n",
      "99.90238524989951\n",
      "99.90238524989951\n",
      "99.90238524989951\n",
      "99.90238524989951\n",
      "99.90238524989951\n",
      "99.90238524989951\n",
      "99.90238524989951\n",
      "99.90238524989951\n",
      "99.90238524989951\n",
      "99.90238524989951\n",
      "99.90238524989951\n",
      "99.90238524989951\n",
      "99.90238524989951\n",
      "99.90072349572631\n"
     ]
    },
    {
     "ename": "IndexError",
     "evalue": "index -9999 is out of bounds for axis 1 with size 7",
     "output_type": "error",
     "traceback": [
      "\u001b[0;31m---------------------------------------------------------------------------\u001b[0m",
      "\u001b[0;31mIndexError\u001b[0m                                Traceback (most recent call last)",
      "\u001b[0;32m/var/folders/8m/_bn9wq4x2_75sm3mp0bcylzr0000gn/T/ipykernel_40906/3535093540.py\u001b[0m in \u001b[0;36m<module>\u001b[0;34m\u001b[0m\n\u001b[0;32m----> 1\u001b[0;31m \u001b[0mmcfp_sol\u001b[0m \u001b[0;34m=\u001b[0m \u001b[0;34m[\u001b[0m\u001b[0mmcfp\u001b[0m\u001b[0;34m(\u001b[0m\u001b[0mgraph\u001b[0m\u001b[0;34m,\u001b[0m \u001b[0mD\u001b[0m\u001b[0;34m)\u001b[0m \u001b[0;32mfor\u001b[0m \u001b[0mgraph\u001b[0m\u001b[0;34m,\u001b[0m \u001b[0mD\u001b[0m \u001b[0;32min\u001b[0m \u001b[0mtqdm\u001b[0m\u001b[0;34m(\u001b[0m\u001b[0mgraphs_comm\u001b[0m\u001b[0;34m)\u001b[0m\u001b[0;34m]\u001b[0m\u001b[0;34m\u001b[0m\u001b[0;34m\u001b[0m\u001b[0m\n\u001b[0m",
      "\u001b[0;32m/var/folders/8m/_bn9wq4x2_75sm3mp0bcylzr0000gn/T/ipykernel_40906/3535093540.py\u001b[0m in \u001b[0;36m<listcomp>\u001b[0;34m(.0)\u001b[0m\n\u001b[0;32m----> 1\u001b[0;31m \u001b[0mmcfp_sol\u001b[0m \u001b[0;34m=\u001b[0m \u001b[0;34m[\u001b[0m\u001b[0mmcfp\u001b[0m\u001b[0;34m(\u001b[0m\u001b[0mgraph\u001b[0m\u001b[0;34m,\u001b[0m \u001b[0mD\u001b[0m\u001b[0;34m)\u001b[0m \u001b[0;32mfor\u001b[0m \u001b[0mgraph\u001b[0m\u001b[0;34m,\u001b[0m \u001b[0mD\u001b[0m \u001b[0;32min\u001b[0m \u001b[0mtqdm\u001b[0m\u001b[0;34m(\u001b[0m\u001b[0mgraphs_comm\u001b[0m\u001b[0;34m)\u001b[0m\u001b[0;34m]\u001b[0m\u001b[0;34m\u001b[0m\u001b[0;34m\u001b[0m\u001b[0m\n\u001b[0m",
      "\u001b[0;32m/var/folders/8m/_bn9wq4x2_75sm3mp0bcylzr0000gn/T/ipykernel_40906/3378024039.py\u001b[0m in \u001b[0;36mmcfp\u001b[0;34m(graph, D, eta_f, eta_g, eps, seed, n_iter)\u001b[0m\n\u001b[1;32m      9\u001b[0m         \u001b[0mcur_node\u001b[0m \u001b[0;34m=\u001b[0m \u001b[0mt\u001b[0m\u001b[0;34m\u001b[0m\u001b[0;34m\u001b[0m\u001b[0m\n\u001b[1;32m     10\u001b[0m         \u001b[0;32mwhile\u001b[0m \u001b[0mcur_node\u001b[0m \u001b[0;34m!=\u001b[0m \u001b[0ms\u001b[0m\u001b[0;34m:\u001b[0m\u001b[0;34m\u001b[0m\u001b[0;34m\u001b[0m\u001b[0m\n\u001b[0;32m---> 11\u001b[0;31m             \u001b[0mcur_node\u001b[0m \u001b[0;34m=\u001b[0m \u001b[0mpred\u001b[0m\u001b[0;34m[\u001b[0m\u001b[0ms\u001b[0m\u001b[0;34m,\u001b[0m \u001b[0mcur_node\u001b[0m\u001b[0;34m]\u001b[0m\u001b[0;34m\u001b[0m\u001b[0;34m\u001b[0m\u001b[0m\n\u001b[0m\u001b[1;32m     12\u001b[0m         \u001b[0mbudget\u001b[0m \u001b[0;34m+=\u001b[0m \u001b[0md\u001b[0m \u001b[0;34m*\u001b[0m \u001b[0mdist\u001b[0m\u001b[0;34m[\u001b[0m\u001b[0ms\u001b[0m\u001b[0;34m,\u001b[0m \u001b[0mt\u001b[0m\u001b[0;34m]\u001b[0m\u001b[0;34m\u001b[0m\u001b[0;34m\u001b[0m\u001b[0m\n\u001b[1;32m     13\u001b[0m     \u001b[0;32massert\u001b[0m \u001b[0mbudget\u001b[0m \u001b[0;34m>\u001b[0m \u001b[0;36m1.0\u001b[0m\u001b[0;34m\u001b[0m\u001b[0;34m\u001b[0m\u001b[0m\n",
      "\u001b[0;31mIndexError\u001b[0m: index -9999 is out of bounds for axis 1 with size 7"
     ]
    }
   ],
   "source": [
    "mcfp_sol = [mcfp(graph, D) for graph, D in tqdm(graphs_comm)]\n"
   ]
  },
  {
   "cell_type": "code",
   "execution_count": 27,
   "id": "a4e448c2-5d7d-4b0a-a716-0893ef333302",
   "metadata": {},
   "outputs": [],
   "source": [
    "gaps = [spectral_gap_approx(graph) for graph, _ in graphs_comm]\n",
    "# gaps"
   ]
  },
  {
   "cell_type": "code",
   "execution_count": 28,
   "id": "88253c2e-1cd0-47d3-8da6-6c7cc58fed0e",
   "metadata": {},
   "outputs": [
    {
     "data": {
      "text/plain": [
       "KendalltauResult(correlation=0.1482524958667068, pvalue=0.18331347243537044)"
      ]
     },
     "execution_count": 28,
     "metadata": {},
     "output_type": "execute_result"
    },
    {
     "data": {
      "image/png": "[encoded data removed]",
      "text/plain": [
       "<Figure size 640x480 with 1 Axes>"
      ]
     },
     "metadata": {},
     "output_type": "display_data"
    }
   ],
   "source": [
    "plt.scatter(gaps, mcfp_sol)\n",
    "kendalltau(gaps, mcfp_sol)"
   ]
  },
  {
   "cell_type": "code",
   "execution_count": 29,
   "id": "e0c958c8-b621-438e-91cc-6715dadf8884",
   "metadata": {},
   "outputs": [
    {
     "data": {
      "text/plain": [
       "KendalltauResult(correlation=0.1411636340774045, pvalue=0.23618314387241357)"
      ]
     },
     "execution_count": 29,
     "metadata": {},
     "output_type": "execute_result"
    },
    {
     "data": {
      "image/png": "[encoded data removed]",
      "text/plain": [
       "<Figure size 640x480 with 1 Axes>"
      ]
     },
     "metadata": {},
     "output_type": "display_data"
    }
   ],
   "source": [
    "n_eff = [enn_approx(graph, 0.1) for graph, D in graphs_comm]\n",
    "plt.scatter(n_eff, mcfp_sol)\n",
    "kendalltau(n_eff, mcfp_sol)"
   ]
  },
  {
   "cell_type": "markdown",
   "id": "9a4bd049-95fd-48be-987b-3126a9d210a0",
   "metadata": {},
   "source": [
    "## Conclusion\n",
    "\n",
    "Spectral gap of the Laplace matrix and effective number of neighbours \n",
    "do not correlate with the solution of the MCFP.\n",
    "\n",
    "__Possible reasons__\n",
    "\n",
    "1. The proposed metrix do not consider the set of commodities.\n",
    "2. Additionally, spetral metrics do not consider capacities.\n",
    "\n"
   ]
  },
  {
   "cell_type": "code",
   "execution_count": 183,
   "id": "ea7a8f64-c3b3-40fa-85d7-9c5281587c72",
   "metadata": {},
   "outputs": [],
   "source": [
    "! open ."
   ]
  },
  {
   "cell_type": "code",
   "execution_count": null,
   "id": "7d1574d3-551c-4575-8a14-4acf355756cb",
   "metadata": {},
   "outputs": [],
   "source": []
  },
  {
   "cell_type": "code",
   "execution_count": null,
   "id": "c6349e49-6ab9-4e53-b4aa-a0b0d9e00034",
   "metadata": {},
   "outputs": [],
   "source": []
  }
 ],
 "metadata": {
  "kernelspec": {
   "display_name": "Python 3 (ipykernel)",
   "language": "python",
   "name": "python3"
  },
  "language_info": {
   "codemirror_mode": {
    "name": "ipython",
    "version": 3
   },
   "file_extension": ".py",
   "mimetype": "text/x-python",
   "name": "python",
   "nbconvert_exporter": "python",
   "pygments_lexer": "ipython3",
   "version": "3.7.13"
  }
 },
 "nbformat": 4,
 "nbformat_minor": 5
}
